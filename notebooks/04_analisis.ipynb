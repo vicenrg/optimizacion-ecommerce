{
 "cells": [
  {
   "cell_type": "markdown",
   "metadata": {},
   "source": [
    "# ANÁLISIS EXPLORATORIO DE LOS DATOS (EDA)"
   ]
  },
  {
   "cell_type": "markdown",
   "metadata": {},
   "source": [
    "---\n",
    "## 1. IMPORTAR PAQUETES\n",
    "---"
   ]
  },
  {
   "cell_type": "code",
   "execution_count": null,
   "metadata": {},
   "outputs": [],
   "source": [
    "import numpy as np\n",
    "import pandas as pd\n",
    "import matplotlib.pyplot as plt\n",
    "%matplotlib inline\n",
    "import seaborn as sns\n",
    "import plotly.graph_objects as go\n",
    "\n",
    "pd.options.display.float_format = '{:.2f}'.format\n",
    "\n",
    "%config IPCompleter.greedy=True # Activa el autocompletar avanzado en Jupyter\n",
    "\n",
    "sns.set_theme(style=\"whitegrid\")"
   ]
  },
  {
   "cell_type": "markdown",
   "metadata": {},
   "source": [
    "---\n",
    "## 2. IMPORTAR DATOS\n",
    "---"
   ]
  },
  {
   "cell_type": "code",
   "execution_count": null,
   "metadata": {},
   "outputs": [],
   "source": [
    "# Cargar el DataFrame desde pickle\n",
    "df = pd.read_pickle(\"../data/processed/ecommerce_transformado.pkl\")\n",
    "df"
   ]
  },
  {
   "cell_type": "markdown",
   "metadata": {},
   "source": [
    "---\n",
    "## 3. SOBRE EL CUSTOMER JOURNAY \n",
    "---\n"
   ]
  },
  {
   "cell_type": "markdown",
   "metadata": {},
   "source": [
    "---\n",
    "### ANALIZANDO LA VARIABLE EVENTOS - VISIÓN GENERAL \n",
    "---\n",
    "- El objetivo es analizar cuales son los pasos que da un cliente desde que llega a la web, visualiza productos y termina comprando"
   ]
  },
  {
   "cell_type": "code",
   "execution_count": null,
   "metadata": {},
   "outputs": [],
   "source": [
    "# Contar la cantidad de cada tipo de evento\n",
    "eventos = df.evento.value_counts()\n",
    "\n",
    "# Calcular el porcentaje de visualizaciones (view) sobre el total de eventos\n",
    "porcentaje_view = (eventos['view'] / eventos.sum()) * 100\n",
    "\n",
    "# Total de visualizaciones (view)\n",
    "visualizaciones = 100\n",
    "\n",
    "# Calcular el porcentaje de productos añadidos al carrito (cart) sobre las visualizaciones (view)\n",
    "porcentaje_cart_sobre_view = (eventos['cart'] / eventos['view']) * 100\n",
    "\n",
    "# Calcular la tasa de productos sacados del carrito (remove_from_cart) sobre los añadidos al carrito (cart)\n",
    "porcentaje_remove_sobre_cart = (eventos['remove_from_cart'] / eventos['cart']) * 100\n",
    "\n",
    "# Calcular la tasa de productos comprados (purchase) sobre los añadidos al carrito (cart)\n",
    "porcentaje_purchase_sobre_cart = (eventos['purchase'] / eventos['cart']) * 100\n",
    "\n",
    "\n",
    "# Crear el DataFrame con los valores proporcionados\n",
    "data = {\n",
    "    'kpi': ['visualizaciones', 'carrito', 'abandono', 'compra'],\n",
    "    'valor': [visualizaciones, porcentaje_cart_sobre_view, porcentaje_remove_sobre_cart, porcentaje_purchase_sobre_cart],  \n",
    "}\n",
    "\n",
    "kpis = pd.DataFrame(data)\n",
    "\n",
    "# Mostrar los resultados\n",
    "print(f\"Porcentaje de visualizaciones (view) sobre el total de eventos: {porcentaje_view:.2f}%\")\n",
    "print(f\"\\nPorcentaje de productos añadidos al carrito (cart) sobre el total de visualizaciones (view): {porcentaje_cart_sobre_view:.2f}%\")\n",
    "print(f\"Porcentaje de productos sacados del carrito (remove_from_cart) sobre añadidos al carrito (cart): {porcentaje_remove_sobre_cart:.2f}%\")\n",
    "print(f\"Porcentaje de productos comprados (purchase) sobre añadidos al carrito (cart): {porcentaje_purchase_sobre_cart:.2f}%\")\n",
    "display(kpis)"
   ]
  },
  {
   "cell_type": "markdown",
   "metadata": {},
   "source": [
    "### Visualizamos la información en gráficos de funnel "
   ]
  },
  {
   "cell_type": "code",
   "execution_count": null,
   "metadata": {},
   "outputs": [],
   "source": [
    "# Esta función recibe la variable de los eventos como entrada\n",
    "def funnel_analytics_1(evento):\n",
    "    \n",
    "    # hacemos el conteo\n",
    "    eventos = df.evento.value_counts()\n",
    "\n",
    "    # preparamos las variables\n",
    "    visualizaciones = 100\n",
    "    porcentaje_cart_sobre_view = (eventos['cart'] / eventos['view']) * 100\n",
    "    porcentaje_remove_sobre_cart = (eventos['remove_from_cart'] / eventos['cart']) * 100\n",
    "    porcentaje_purchase_sobre_cart = (eventos['purchase'] / eventos['cart']) * 100\n",
    "    \n",
    "    kpis = pd.DataFrame({'kpi':['visualizaciones','carrito','compra'],\n",
    "                         'valor':[visualizaciones, porcentaje_cart_sobre_view, porcentaje_purchase_sobre_cart]})\n",
    "\n",
    "    # Crear el gráfico\n",
    "    fig = go.Figure(go.Funnel(\n",
    "    y = kpis['kpi'],  # Nombres de las etapas\n",
    "    x = kpis['valor'].round(2),  # Valores en porcentaje\n",
    "    marker = {'color': ['red', 'blue', 'green']},  # Colores personalizados\n",
    "    opacity = 0.3,  # Opacidad de las barras\n",
    "    textinfo = \"value+percent initial\"  # Mostrar valores y porcentaje inicial\n",
    "    ))\n",
    "\n",
    "    # Configurar el título del gráfico\n",
    "    fig.update_layout(title = \"- Porcentaje de productos añadidos al carrito sobre el total de visualizaciones <br>- Porcentaje de productos comprados sobre añadidos al carrito\")\n",
    "\n",
    "    # Mostrar el gráfico\n",
    "    fig.show()\n",
    "\n",
    "    #imprimimos un informe de conclusiones\n",
    "    print(f'Porcentaje de productos añadidos al carrito (cart) sobre el total de visualizaciones (view): {porcentaje_cart_sobre_view:.2f}% ')\n",
    "    print(f\"Porcentaje de productos comprados (purchase) sobre añadidos al carrito (cart): {porcentaje_purchase_sobre_cart:.2f}%\")\n",
    "    print(f'\\nPor tanto existe un {100 - porcentaje_cart_sobre_view.round(2)}% de visualizaciones sobre las que trabajar para conseguir más carritos, y un {100 - porcentaje_purchase_sobre_cart.round(2)}% de carritos sobre los que trabajar para conseguir más compras.')\n",
    "\n",
    "funnel_analytics_1(df.evento)"
   ]
  },
  {
   "cell_type": "code",
   "execution_count": null,
   "metadata": {},
   "outputs": [],
   "source": [
    "# Esta función recibe la variable de los eventos como entrada\n",
    "def funnel_analytics_2(evento):\n",
    "    \n",
    "    # hacemos el conteo\n",
    "    eventos = df.evento.value_counts()\n",
    "\n",
    "    # preparamos las variables\n",
    "    carrito = 100\n",
    "    porcentaje_remove_sobre_cart = (eventos['remove_from_cart'] / eventos['cart']) * 100\n",
    "    porcentaje_purchase_sobre_cart = (eventos['purchase'] / eventos['cart']) * 100\n",
    "    \n",
    "    kpis = pd.DataFrame({'kpi':['carrito','abandono','compra'],\n",
    "                         'valor':[carrito, porcentaje_remove_sobre_cart, porcentaje_purchase_sobre_cart]})\n",
    "    \n",
    "    # Crear el gráfico\n",
    "    fig = go.Figure(go.Funnel(\n",
    "    y = kpis['kpi'],  # Nombres de las etapas\n",
    "    x = kpis['valor'].round(2),  # Valores en porcentaje\n",
    "    marker = {'color': ['red', 'blue', 'green']},  # Colores personalizados\n",
    "    opacity = 0.3,  # Opacidad de las barras\n",
    "    textinfo = \"value+percent initial\"  # Mostrar valores y porcentaje inicial\n",
    "    ))\n",
    "\n",
    "    # Configurar el título del gráfico\n",
    "    fig.update_layout(title = \"- Porcentaje de productos sacados del carrito sobre añadidos al carrito <br>- Porcentaje de productos comprados sobre añadidos al carrito\")\n",
    "\n",
    "    # Mostrar el gráfico\n",
    "    fig.show()\n",
    "\n",
    "    #imprimimos un informe de conclusiones\n",
    "    print(f'Porcentaje de productos sacados del carrito (remove_from_cart) sobre el total de añadidos al carrito (cart): {porcentaje_remove_sobre_cart:.2f}%')\n",
    "    print(f\"Porcentaje de productos comprados (purchase) sobre el total de añadidos al carrito (cart): {porcentaje_purchase_sobre_cart:.2f}%\")\n",
    "    print(f'\\nPor tanto existe un {porcentaje_remove_sobre_cart.round(2)}% de abandonos sobre los que se puede trabajar')\n",
    "\n",
    "funnel_analytics_2(df.evento)"
   ]
  },
  {
   "cell_type": "markdown",
   "metadata": {},
   "source": [
    "---\n",
    "### Calculo de la facturacion media por mes\n",
    "---"
   ]
  },
  {
   "cell_type": "code",
   "execution_count": null,
   "metadata": {},
   "outputs": [],
   "source": [
    "facturacion_por_mes = df.loc[df.evento == 'purchase'].groupby('mes').precio.sum()\n",
    "print(f\"Facturación por mes: \\n{facturacion_por_mes}\\n\")\n",
    "\n",
    "# Calcular la facturación media por mes\n",
    "facturacion_media = facturacion_por_mes.mean()\n",
    "print(f\"Facturación media por mes: {facturacion_media:.2f}\\n\")"
   ]
  },
  {
   "cell_type": "markdown",
   "metadata": {},
   "source": [
    "---\n",
    "### Media de cada evento por sesión\n",
    "---"
   ]
  },
  {
   "cell_type": "code",
   "execution_count": null,
   "metadata": {},
   "outputs": [],
   "source": [
    "# Agrupar por 'sesion_usuario' y 'evento', y contar los productos\n",
    "eventos_por_sesion = df.groupby(['sesion', 'evento'], observed=True).producto.count().unstack().fillna(0)\n",
    "\n",
    "# Calcular la media de cada tipo de evento por sesión\n",
    "media_eventos_sesion = eventos_por_sesion.mean()\n",
    "\n",
    "# Reordenar la salida en el orden deseado\n",
    "orden = ['view', 'cart', 'remove_from_cart', 'purchase']\n",
    "media_eventos_sesion = media_eventos_sesion.reindex(orden)\n",
    "\n",
    "# Mostrar los resultados\n",
    "print(\"Media de eventos por sesión (ordenados):\")\n",
    "print(media_eventos_sesion)\n",
    "print(\"\\nSe deben incrementar la media de visualizaciones, carritos y compras por sesión y disminuir los abandonos de carrito.\")"
   ]
  },
  {
   "cell_type": "markdown",
   "metadata": {},
   "source": [
    "---\n",
    "### Visualizaciones de eventos por hora\n",
    "---"
   ]
  },
  {
   "cell_type": "code",
   "execution_count": null,
   "metadata": {},
   "outputs": [],
   "source": [
    "# Agrupar por 'hora' y 'evento', y contar los eventos\n",
    "eventos_por_hora = df.groupby(['hora', 'evento'], observed = True).size().unstack(fill_value=0)\n",
    "\n",
    "# Crear el gráfico de líneas para todos los eventos\n",
    "plt.figure(figsize=(12, 6))\n",
    "for evento in eventos_por_hora.columns:\n",
    "    plt.plot(eventos_por_hora.index, eventos_por_hora[evento], label=evento)\n",
    "\n",
    "# Configurar el título y las etiquetas\n",
    "plt.title(\"Total de eventos por hora\", fontsize=16)\n",
    "plt.xlabel(\"Hora\", fontsize=12)\n",
    "plt.ylabel(\"Cantidad de eventos\", fontsize=12)\n",
    "plt.xticks(range(0, 24))  # Asegurar que las horas estén en el rango 0-23\n",
    "plt.legend(title=\"Eventos\", fontsize=10)\n",
    "plt.grid(alpha=0.3)\n",
    "\n",
    "# Mostrar el DataFrame resultante\n",
    "print(\"Total de eventos por hora:\\n\")\n",
    "print(eventos_por_hora);"
   ]
  },
  {
   "cell_type": "markdown",
   "metadata": {},
   "source": [
    "---\n",
    "### Porcentaje de compras sobre visitas por hora\n",
    "---\n",
    "- Localizamos las horas donde tenemos mayor y menor tasa de conversión"
   ]
  },
  {
   "cell_type": "code",
   "execution_count": null,
   "metadata": {},
   "outputs": [],
   "source": [
    "# Calcular la proporción de compras sobre visitas por hora\n",
    "eventos_por_hora['compras_visitas'] = eventos_por_hora['purchase'] / eventos_por_hora['view'] * 100\n",
    "\n",
    "# Ordenadar las variables\n",
    "eventos_por_hora = eventos_por_hora[['view', 'cart', 'remove_from_cart', 'purchase', 'compras_visitas']]\n",
    "\n",
    "print(eventos_por_hora)\n",
    "\n",
    "# Configurar el estilo de Seaborn\n",
    "sns.set_theme(style=\"whitegrid\")\n",
    "\n",
    "# Crear el gráfico de líneas\n",
    "plt.figure(figsize=(12, 6))\n",
    "sns.lineplot(\n",
    "    x=eventos_por_hora.index,  # Eje X: las horas\n",
    "    y=eventos_por_hora['compras_visitas'],  # Eje Y: porcentaje de compras sobre visitas\n",
    "    marker='o',  # Marcadores en los puntos\n",
    "    color='blue',  # Color de la línea\n",
    "    label='Compras sobre visitas (%)'\n",
    ")\n",
    "\n",
    "# Configurar el título y las etiquetas\n",
    "plt.title(\"Porcentaje de Compras sobre Visitas por Hora\", fontsize=16)\n",
    "plt.xlabel(\"Hora\", fontsize=12)\n",
    "plt.ylabel(\"Porcentaje (%)\", fontsize=12)\n",
    "plt.xticks(range(0, 24))  # Asegurar que las horas estén en el rango 0-23\n",
    "plt.legend(fontsize=10)\n",
    "plt.grid(alpha=0.3);"
   ]
  },
  {
   "cell_type": "markdown",
   "metadata": {},
   "source": [
    "* Las horas en las que la gente compra más son la 1, las 8, de 11 a 13 y las 18 por lo que estos horarios seria buen momento para hacer campañas de publicidad o retargeting\n",
    "* Las horas en las que la gente no compra son las 24, de 3 a 7, de 14 a 17 y de 19 a 23"
   ]
  },
  {
   "cell_type": "markdown",
   "metadata": {},
   "source": [
    "---\n",
    "### Analisis semanal de los eventos\n",
    "---"
   ]
  },
  {
   "cell_type": "code",
   "execution_count": null,
   "metadata": {},
   "outputs": [],
   "source": [
    "# Analizar la tendencia de eventos por semana\n",
    "tendencia = df.groupby('evento', observed = True).resample('W').evento.count().unstack(level = 0)\n",
    "\n",
    "# Ordenar las columnas de acuerdo a la secuencia de eventos\n",
    "tendencia = tendencia[['view', 'cart', 'remove_from_cart', 'purchase']]\n",
    "\n",
    "# Mostrar el análisis semanal\n",
    "print(\"Tendencia semanal de eventos:\\n\")\n",
    "print(tendencia)\n",
    "\n",
    "# Crear el gráfico de líneas para la tendencia semanal\n",
    "tendencia.plot(subplots = True, figsize=(16, 8), \n",
    "               xticks = tendencia.index, \n",
    "               x_compat = True, \n",
    "               rot = 90, \n",
    "               title=\"Tendencia Semanal de Eventos\", \n",
    "               marker='o');"
   ]
  },
  {
   "cell_type": "markdown",
   "metadata": {},
   "source": [
    "- Durante el mes de diciembre disminuyen notablemente todos los valores de los eventos, posiblemente el motivo es por que los clientes compran en Black Friday que es la ultima semana de Noviembre y se puede ver claramente que es donde esta el pico mas alto de todos los valores de los eventos."
   ]
  },
  {
   "cell_type": "markdown",
   "metadata": {},
   "source": [
    "---\n",
    "### Analisis diario de los eventos de Noviembre y Diciembre\n",
    "---"
   ]
  },
  {
   "cell_type": "code",
   "execution_count": null,
   "metadata": {},
   "outputs": [],
   "source": [
    "\n",
    "# Filtrar los datos para los meses de noviembre y diciembre\n",
    "tendencia_diaria_nov_dic = df.query(\"'2019-11-01' <= fecha <= '2019-12-31'\").groupby('evento', observed = True).resample('D').evento.count().unstack(level = 0)\n",
    "\n",
    "# Ordenar las columnas de acuerdo a la secuencia de eventos\n",
    "tendencia_diaria_nov_dic = tendencia_diaria_nov_dic[['view', 'cart', 'remove_from_cart', 'purchase']]\n",
    "\n",
    "# Mostrar el análisis diario\n",
    "print(\"Análisis diario de los eventos en noviembre y diciembre:\")\n",
    "print(tendencia_diaria_nov_dic)\n",
    "\n",
    "# Crear el gráfico de líneas para la tendencia diaria\n",
    "tendencia_diaria_nov_dic.plot(subplots = True, figsize=(16, 8), \n",
    "                       xticks = tendencia_diaria_nov_dic.index, \n",
    "                       x_compat = True, \n",
    "                       rot = 90, \n",
    "                       title=\"Tendencia Diaria de Eventos (Noviembre y Diciembre)\", \n",
    "                       marker='o');"
   ]
  },
  {
   "cell_type": "markdown",
   "metadata": {},
   "source": [
    "* El pico coincide con el black friday (día 29)\n",
    "* Pero aún hay un pico mayor unos días antes, el día 22, posiblemente por el inicio de la semana black friday\n",
    "* Los días de Navidad tienen una tendencia decreciente, lo que significa que los consumidores claramente han adelantado sus compras"
   ]
  },
  {
   "cell_type": "markdown",
   "metadata": {},
   "source": [
    "---\n",
    "### Analisis diario de los eventos de Enero y Febrero\n",
    "---"
   ]
  },
  {
   "cell_type": "code",
   "execution_count": null,
   "metadata": {},
   "outputs": [],
   "source": [
    "# Filtrar los datos para los meses de Enero y Febrero\n",
    "tendencia_diaria_ene_feb = df.query(\"'2020-01-01' <= fecha <= '2020-02-29'\").groupby('evento', observed = True).resample('D').evento.count().unstack(level = 0)\n",
    "\n",
    "# Ordenar las columnas de acuerdo a la secuencia de eventos\n",
    "tendencia_diaria_ene_feb = tendencia_diaria_ene_feb[['view', 'cart', 'remove_from_cart', 'purchase']]\n",
    "\n",
    "# Mostrar el análisis diario\n",
    "print(\"Análisis diario de los eventos en enero y febrero:\")\n",
    "print(tendencia_diaria_ene_feb)\n",
    "\n",
    "# Crear el gráfico de líneas para la tendencia diaria\n",
    "tendencia_diaria_ene_feb.plot(subplots = True, figsize=(16, 8), \n",
    "                                      xticks = tendencia_diaria_ene_feb.index, \n",
    "                                      x_compat = True, \n",
    "                                      rot = 90, \n",
    "                                      title=\"Tendencia Diaria de Eventos (Enero y Febrero)\", \n",
    "                                      marker='o');\n"
   ]
  },
  {
   "cell_type": "markdown",
   "metadata": {},
   "source": [
    "* Durante la semana de Reyes no hay pico de ventas, ni los días previos a San Valentín, pero sí hay un pico muy pronunciado el 27 de Enero, seguramente algún evento local seguramente coincide con la celebracion del año nuevo chino en Rusia.\n",
    "\n",
    "\n",
    "**➢ INSIGHT** La gran conclusión es que la mayor parte de las compras navideñas se reparte en la semana del black friday"
   ]
  },
  {
   "cell_type": "markdown",
   "metadata": {},
   "source": [
    "---\n",
    "### Analisis por día y hora de las compras\n",
    "---"
   ]
  },
  {
   "cell_type": "code",
   "execution_count": null,
   "metadata": {},
   "outputs": [],
   "source": [
    "# Agrupar por fecha y hora\n",
    "#compras_dia_hora = df.loc[df.evento == 'purchase'].groupby(['date', 'hora']).size().unstack(level=0).fillna(0)\n",
    "compras_dia_hora = df.loc[df.evento == 'purchase'].groupby(['date', 'hora']).evento.count().unstack(level=0).fillna(0)\n",
    "\n",
    "# Mostrar la tabla\n",
    "display(compras_dia_hora)\n",
    "\n",
    "# Crear el gráfico de calor\n",
    "plt.figure(figsize=(16, 8))\n",
    "sns.heatmap(compras_dia_hora)\n",
    "plt.title(\"Compras por Hora y Día\", fontsize=16)\n",
    "plt.xlabel(\"date\", fontsize=12)\n",
    "plt.ylabel(\"hora\", fontsize=12)\n",
    "plt.xticks(rotation=90)\n",
    "plt.yticks(rotation=0)\n",
    "plt.tight_layout();\n"
   ]
  },
  {
   "cell_type": "markdown",
   "metadata": {},
   "source": [
    "---\n",
    "## 3. SOBRE LOS CLIENTES\n",
    "---"
   ]
  },
  {
   "cell_type": "code",
   "execution_count": null,
   "metadata": {},
   "outputs": [],
   "source": [
    "df"
   ]
  },
  {
   "cell_type": "markdown",
   "metadata": {},
   "source": [
    "- Creamos un DataFrame a nivel de clientes"
   ]
  },
  {
   "cell_type": "code",
   "execution_count": null,
   "metadata": {},
   "outputs": [],
   "source": [
    "# Filtramos todos los registros que sean eventos de compra (purchase) para descartar los usuarios que no han realizado compras\n",
    "clientes = df.query(\"evento == 'purchase'\").groupby('usuario').agg({'producto':'count', # número total de productos que el usuario ha comprado\n",
    "                                                         'sesion':'nunique', # número de veces que el usuario ha comprado, cada sesion es una compra, aunque en una misma sesion compre varios productos\n",
    "                                                         'precio':'mean', # precio medio de los productos comprados por el usuario\n",
    "                                                         'date':'max'}) # ultima fecha en la que el usuario ha realizado una compra\n",
    "\n",
    "# Renombramos las columnas\n",
    "clientes.rename(columns={'producto':'num_productos_comprados', \n",
    "                          'sesion':'num_compras_totales', \n",
    "                          'precio':'precio_medio_producto', \n",
    "                          'date':'ult_compra'}, inplace=True)\n",
    "\n",
    "# Agregando nuevas columnas\n",
    "clientes['gasto_total'] = clientes.num_productos_comprados * clientes.precio_medio_producto # total gastado por el cliente\n",
    "clientes['productos_por_compra'] = clientes.num_productos_comprados / clientes.num_compras_totales # número de productos comprados por compra\n",
    "\n",
    "clientes"
   ]
  },
  {
   "cell_type": "markdown",
   "metadata": {},
   "source": [
    "### Como se distribuyen los clientes con respecto al gasto total"
   ]
  },
  {
   "cell_type": "code",
   "execution_count": null,
   "metadata": {},
   "outputs": [],
   "source": [
    "\n",
    "# Configurar el estilo de Seaborn\n",
    "sns.set_theme(style=\"whitegrid\")\n",
    "\n",
    "# Crear un histograma para visualizar la distribución del gasto total\n",
    "plt.figure(figsize=(12, 4))\n",
    "sns.histplot(data=clientes, x='gasto_total', bins = 200, kde=True, color='blue', alpha=0.7)\n",
    "plt.xlim(0, 300)  # Limitar el eje x para enfocarnos en el rango de gasto total\n",
    "\n",
    "# Configurar el título y las etiquetas\n",
    "plt.title(\"Distribución de Clientes por Gasto Total\", fontsize=16)\n",
    "plt.xlabel(\"Gasto Total\", fontsize=12)\n",
    "plt.ylabel(\"Número de Clientes\", fontsize=12);\n",
    "\n"
   ]
  },
  {
   "cell_type": "markdown",
   "metadata": {},
   "source": [
    "- La mayoria de los clientes han gastado menos de 50€ en el periodo"
   ]
  },
  {
   "cell_type": "markdown",
   "metadata": {},
   "source": [
    "### Como se distribuyen los clientes con relación a la frecuencia de compra"
   ]
  },
  {
   "cell_type": "code",
   "execution_count": null,
   "metadata": {},
   "outputs": [],
   "source": [
    "# Crear un gráfico de barras con countplot para visualizar la distribución de la frecuencia de compra\n",
    "plt.figure(figsize=(12, 4))\n",
    "sns.countplot(data = clientes, x = 'num_compras_totales', color = 'blue', alpha = 0.7)\n",
    "\n",
    "# Configurar el título y las etiquetas\n",
    "plt.title(\"Distribución de Clientes por Frecuencia de Compra\", fontsize = 16)\n",
    "plt.xlabel(\"Número Total de Compras\", fontsize = 12)\n",
    "plt.ylabel(\"Número de Clientes\", fontsize = 12);\n",
    "\n"
   ]
  },
  {
   "cell_type": "markdown",
   "metadata": {},
   "source": [
    "- La mayoria de los clienttes realizan solo una compra, existe una opotunidad de mejorar esta palanca fidelizando clientes lo que incrementaria significativamente la facturación\n",
    "\n",
    "**➢ INSIGHT** La mayoría de los clientes solo hace una compra"
   ]
  },
  {
   "cell_type": "markdown",
   "metadata": {},
   "source": [
    "### Cuantos productos de media compra un cliente en cada compra"
   ]
  },
  {
   "cell_type": "code",
   "execution_count": null,
   "metadata": {},
   "outputs": [],
   "source": [
    "print(clientes.productos_por_compra.describe())\n",
    "\n",
    "# crear un grafico de bigotes para ver outliers\n",
    "plt.figure(figsize=(12, 4))\n",
    "sns.boxplot(data = clientes, x = 'productos_por_compra', color = 'blue')\n",
    "plt.xlim(0, 220)  # Limitar el eje x para enfocarnos en el rango de productos por compra\n",
    "\n",
    "# Configurar el título y las etiquetas\n",
    "plt.title(\"Distribución de Clientes por Productos Comprados por Compra\", fontsize=16)\n",
    "plt.xlabel(\"Número de Productos Comprados por Compra\", fontsize=12)\n",
    "plt.ylabel(\"Número de Clientes\", fontsize=12);\n"
   ]
  },
  {
   "cell_type": "markdown",
   "metadata": {},
   "source": [
    "- Hay un 25% de los clientes que realizan mas 10 de compras, lo que quiere decir que los clientes compran, se deben realizar acciones para incrementar el numero medio de productos por compra\n",
    "\n",
    "**➢ INSIGHT** La compra de la mediana es de 5 productos"
   ]
  },
  {
   "cell_type": "markdown",
   "metadata": {},
   "source": [
    "### Quienes son los clientes que mas han comprado o gastado"
   ]
  },
  {
   "cell_type": "code",
   "execution_count": null,
   "metadata": {},
   "outputs": [],
   "source": [
    "# Filtrar los 10 clientes con mayor gasto total\n",
    "display(clientes.nlargest(n = 10, columns = 'gasto_total'))\n",
    "\n",
    "# Explorar la estadística descriptiva del gasto total\n",
    "clientes.gasto_total.describe()"
   ]
  },
  {
   "cell_type": "markdown",
   "metadata": {},
   "source": [
    "- **➢ INSIGHT** Existen clientes que su gasto esta muy por encima de la media, pueden ser clientes que compran para revender el producto, si la empresa no tiene en cuenta este tipo de cliente esta palanca es importante para crear algun tipo de estrtategia para dirigerse a clientes profesionales."
   ]
  },
  {
   "cell_type": "markdown",
   "metadata": {},
   "source": [
    "### ¿Cual es la supervivencia de los clientes?"
   ]
  },
  {
   "cell_type": "code",
   "execution_count": null,
   "metadata": {},
   "outputs": [],
   "source": [
    "# Preparamos un dataframe solo con compradores y con las variables usuario y mes.\n",
    "c = df.loc[df.evento == 'purchase', ['usuario','mes']]\n",
    "display(c)\n",
    "\n",
    "# Pasamos los meses a columnas\n",
    "c = pd.crosstab(c.usuario,c.mes).reset_index()\n",
    "display(c)"
   ]
  },
  {
   "cell_type": "code",
   "execution_count": null,
   "metadata": {},
   "outputs": [],
   "source": [
    "# Renombramos y eliminamos el usuario, c1 = oct, c2 = nov, c3 = dic, c4 = ene, c5 = feb\n",
    "c.columns = ['usuario','c4','c5','c1','c2','c3']\n",
    "c.drop(columns = 'usuario', inplace = True)\n",
    "c"
   ]
  },
  {
   "cell_type": "code",
   "execution_count": null,
   "metadata": {},
   "outputs": [],
   "source": [
    "# establecemos la base / clientes que en el mes 1 no han tenido ninguna compra / clientes q en el mes 2 han tenido alguna compra\n",
    "c2 = c.loc[(c.c1 == 0) & (c.c2 > 0)]\n",
    "print(c2)\n",
    "\n",
    "# Pasamos a un dataframe binario ya que solo nos importa si ese cliente ha comprado o no en cada mes\n",
    "def binarizar(variable):\n",
    "    variable = variable.transform(lambda x: 1 if (x > 0) else 0)\n",
    "    return(variable)\n",
    "\n",
    "c2_b = c2.apply(binarizar)\n",
    "print(c2_b)\n",
    "\n",
    "# Calculamos la media de supervivientes en cada uno de los meses posteriores\n",
    "c2_f = c2_b.sum() / c2_b.shape[0]\n",
    "c2_f = c2_f.sort_index()\n",
    "(c2_f)"
   ]
  },
  {
   "cell_type": "code",
   "execution_count": null,
   "metadata": {},
   "outputs": [],
   "source": [
    "# establecemos la base / clientes que en el mes 2 no han tenido ninguna compra / clientes q en el mes 3 han tenido alguna compra\n",
    "# Pasamos a un dataframe binario ya que solo nos importa si ese cliente ha comprado o no en cada mes\n",
    "# Calculamos la media de supervivientes en cada uno de los meses posteriores\n",
    "c3 = c.loc[(c.c2 == 0) & (c.c3 > 0)]\n",
    "c3_b = c3.apply(binarizar)\n",
    "c3_f = c3_b.sum() / c3_b.shape[0]\n",
    "c3_f = c3_f.sort_index()\n",
    "c3_f['c1'] = 0\n",
    "c3_f\n"
   ]
  },
  {
   "cell_type": "code",
   "execution_count": null,
   "metadata": {},
   "outputs": [],
   "source": [
    "# establecemos la base / clientes que en el mes 3 no han tenido ninguna compra / clientes q en el mes 4 han tenido alguna compra\n",
    "# Pasamos a un dataframe binario ya que solo nos importa si ese cliente ha comprado o no en cada mes\n",
    "# Calculamos la media de supervivientes en cada uno de los meses posteriores\n",
    "c4 = c.loc[(c.c3 == 0) & (c.c4 > 0)]\n",
    "c4_b = c4.apply(binarizar)\n",
    "c4_f = c4_b.sum() / c4_b.shape[0]\n",
    "c4_f = c4_f.sort_index()\n",
    "c4_f['c1'] = 0\n",
    "c4_f['c2'] = 0\n",
    "c4_f\n"
   ]
  },
  {
   "cell_type": "code",
   "execution_count": null,
   "metadata": {},
   "outputs": [],
   "source": [
    "# Creamos el DataFrame\n",
    "cor = pd.DataFrame({'c2':c2_f,'c3':c3_f,'c4':c4_f})\n",
    "print(cor)\n",
    "\n",
    "\n",
    "cor = cor.drop(index = 'c1').T\n",
    "print(cor)\n",
    "\n",
    "\n",
    "plt.figure(figsize = (12,6))\n",
    "sns.heatmap(cor,annot = True, fmt = '.0%', cmap='Greys');"
   ]
  },
  {
   "cell_type": "markdown",
   "metadata": {},
   "source": [
    "**INSIGHT**: El 90% de que los nuevos clientes no vuelve a comprar en los meses posteriores\n"
   ]
  },
  {
   "cell_type": "code",
   "execution_count": null,
   "metadata": {},
   "outputs": [],
   "source": [
    "df"
   ]
  },
  {
   "cell_type": "markdown",
   "metadata": {},
   "source": [
    "---\n",
    "## 3. SOBRE LOS PRODUCTOS\n",
    "---"
   ]
  },
  {
   "cell_type": "code",
   "execution_count": null,
   "metadata": {},
   "outputs": [],
   "source": [
    "# Creamos un dataframe a nivel de producto para poder analizar esta dimensión.\n",
    "# calculamos los conteos de cada evento en cada producto.\n",
    "\n",
    "prod = df.groupby(['producto','evento']).size()\n",
    "prod  = prod.unstack(level = 1).fillna(0).reset_index()\n",
    "prod"
   ]
  },
  {
   "cell_type": "code",
   "execution_count": null,
   "metadata": {},
   "outputs": [],
   "source": [
    "# Vamos a incorporar el precio, para ello primero creamos un maestro de precios por producto.\n",
    "\n",
    "maestro_precios = df.groupby('producto', as_index = False).precio.mean()\n",
    "print(maestro_precios)\n",
    "\n"
   ]
  },
  {
   "cell_type": "code",
   "execution_count": null,
   "metadata": {},
   "outputs": [],
   "source": [
    "\n",
    "prod = pd.merge(left = prod, right = maestro_precios, how = 'left', on = 'producto')\n",
    "print(prod)"
   ]
  },
  {
   "cell_type": "code",
   "execution_count": null,
   "metadata": {},
   "outputs": [],
   "source": [
    "# reordenamos nombres\n",
    "prod = prod[['producto','view','cart','remove_from_cart','purchase','precio']]\n",
    "prod"
   ]
  },
  {
   "cell_type": "markdown",
   "metadata": {},
   "source": [
    "### ¿Cuales son los productos mas vendidos?"
   ]
  },
  {
   "cell_type": "code",
   "execution_count": null,
   "metadata": {},
   "outputs": [],
   "source": [
    "prod.sort_values('purchase',ascending = False)[0:20]"
   ]
  },
  {
   "cell_type": "markdown",
   "metadata": {},
   "source": [
    "### ¿Hay productos que no se venden?"
   ]
  },
  {
   "cell_type": "code",
   "execution_count": null,
   "metadata": {},
   "outputs": [],
   "source": [
    "prod[prod.purchase == 0]"
   ]
  },
  {
   "cell_type": "markdown",
   "metadata": {},
   "source": [
    "INSIGHT: Casi la mitad de los productos no han tenido ninguna venta en los 5 meses del histórico."
   ]
  },
  {
   "cell_type": "markdown",
   "metadata": {},
   "source": [
    "### Relación entre el precio y el volumen de ventas"
   ]
  },
  {
   "cell_type": "code",
   "execution_count": null,
   "metadata": {},
   "outputs": [],
   "source": [
    "sns.scatterplot(data = prod[prod.purchase > 0], x = 'precio', y = 'purchase', hue = 'precio');"
   ]
  },
  {
   "cell_type": "markdown",
   "metadata": {},
   "source": [
    "### Relación entre el precio por debajo de 50€ y el volumen de ventas"
   ]
  },
  {
   "cell_type": "code",
   "execution_count": null,
   "metadata": {},
   "outputs": [],
   "source": [
    "sns.scatterplot(data = prod[(prod.purchase > 0) & (prod.precio < 50)], x = 'precio', y = 'purchase', hue = 'precio');"
   ]
  },
  {
   "cell_type": "markdown",
   "metadata": {},
   "source": [
    "### Productos que se eliminan del carrito"
   ]
  },
  {
   "cell_type": "code",
   "execution_count": null,
   "metadata": {},
   "outputs": [],
   "source": [
    "prod.insert(loc = 4,\n",
    "            column = 'remove_from_cart_porc',\n",
    "            value = prod.remove_from_cart / prod.cart *100 )\n",
    "prod"
   ]
  },
  {
   "cell_type": "markdown",
   "metadata": {},
   "source": [
    "### Cuales son los productos mas vistos"
   ]
  },
  {
   "cell_type": "code",
   "execution_count": null,
   "metadata": {},
   "outputs": [],
   "source": [
    "prod.view.sort_values(ascending = False)[0:20].plot.bar();"
   ]
  },
  {
   "cell_type": "markdown",
   "metadata": {},
   "source": [
    "### Relacion de productos con muchas vistas y pocas compras"
   ]
  },
  {
   "cell_type": "code",
   "execution_count": null,
   "metadata": {},
   "outputs": [],
   "source": [
    "sns.scatterplot(data = prod.loc[prod.view < 4000], x = 'view', y = 'purchase', hue = 'precio')\n",
    "plt.xlim(1000,3000)\n",
    "plt.ylim(0,150);"
   ]
  },
  {
   "cell_type": "markdown",
   "metadata": {},
   "source": [
    "En cada sesión, de media:\n",
    "\n",
    "* KPIs por sesión: Se ven 2.2 productos\n",
    "* KPIs por sesión: Se añaden 1.3 productos al carrito\n",
    "* KPIs por sesión: Se eliminan 0.9 productos del carrito\n",
    "* KPIs por sesión: Se compran 0.3 productos\n",
    "* Recurrencia: el 10% de los clientes vuelve a comprar tras el primer mes\n",
    "* Conversión: 60% de añadir al carrito sobre visualizaciones\n",
    "* Conversión: 22% de compra sobre añadidos a carrito\n",
    "* Conversión: 13% de compra sobre visualizaciones\n",
    "* Facturación media mensual: 125.000€"
   ]
  }
 ],
 "metadata": {
  "kernelspec": {
   "display_name": "ecommerce",
   "language": "python",
   "name": "python3"
  },
  "language_info": {
   "codemirror_mode": {
    "name": "ipython",
    "version": 3
   },
   "file_extension": ".py",
   "mimetype": "text/x-python",
   "name": "python",
   "nbconvert_exporter": "python",
   "pygments_lexer": "ipython3",
   "version": "3.13.2"
  }
 },
 "nbformat": 4,
 "nbformat_minor": 2
}
