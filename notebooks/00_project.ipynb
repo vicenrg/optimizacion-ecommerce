{
 "cells": [
  {
   "cell_type": "markdown",
   "id": "7558e6e3",
   "metadata": {},
   "source": [
    "# PROYECTO ECOMMERCE"
   ]
  },
  {
   "cell_type": "markdown",
   "id": "6f1ab091",
   "metadata": {},
   "source": [
    "---\n",
    "## ESTRUCTURA DE DIRECTORIOS SIN MACHINE LEARNING\n",
    "---"
   ]
  },
  {
   "cell_type": "code",
   "execution_count": null,
   "id": "6bd0aa14",
   "metadata": {},
   "outputs": [],
   "source": [
    "# 📦 ecommerce\n",
    "# │── 📁 docs/                        # Documentación del proyecto\n",
    "# │   ├── requirements.txt            # Librerías necesarias (pip)\n",
    "# │   ├── environment.yml             # Dependencias en formato Conda\n",
    "# │   ├── README.md                   # Descripción general del proyecto\n",
    "# │\n",
    "# │── 📁 data/                        # Datos del proyecto\n",
    "# │   ├── 📁 raw/                     # Datos sin procesar (descargados de fuentes externas)\n",
    "# │   ├── 📁 processed/               # Datos limpios y transformados\n",
    "# │   ├── 📁 originals/               # Copias originales de datos clave\n",
    "# │   ├── 📁 validation/              # Conjuntos de datos para validación\n",
    "# │\n",
    "# │── 📁 notebooks/                   # Jupyter Notebooks organizados\n",
    "# │   ├── 00_project.ipynb            # Notebook con estructura de directorios y entorno\n",
    "# │   ├── 01_extraction.ipynb         # Notebook con la extracción, carga de datos y preparación del DataFrame\n",
    "# │   ├── 02_cleaning.ipynb           # Notebook con la limpieza de datos\n",
    "# │   ├── 03_transformation.ipynb     # Notebook con la transformación de datos\n",
    "# │   ├── 04_analysis.ipynb           # Notebook con el análisis exploratorio de datos\n",
    "# │\n",
    "# │── 📁 src/                         # Código fuente en Python\n",
    "# │   ├── __init__.py                 # Permite tratar la carpeta como un módulo\n",
    "# │   ├── 01_extraction.py            # Extracción, carga de datos y preparación del DataFrame\n",
    "# │   ├── 02_cleaning.py              # Limpieza de datos\n",
    "# │   ├── 03_transformation.py        # Transformación de datos\n",
    "# │   ├── 04_analysis.py              # Análisis exploratorio de datos\n",
    "# │   ├── 📁 utils/                   # Funciones auxiliares y reutilizables\n",
    "# │\n",
    "# │── 📁 dashboards/                  # Paneles de visualización\n",
    "# │   ├── 📁 powerbi/                 # Dashboards de Power BI (.pbix)\n",
    "# │   ├── 📁 tableau/                 # Dashboards de Tableau\n",
    "# │\n",
    "# │── 📁 images/                      # Imagenes del proyecto      \n",
    "# │\n",
    "# │── main.py                         # Archivo principal para ejecutar el proyecto\n",
    "# │── .gitignore                      # Archivos a ignorar en Git"
   ]
  },
  {
   "cell_type": "code",
   "execution_count": null,
   "id": "0195b677",
   "metadata": {},
   "outputs": [],
   "source": [
    "''' Crear proyecto y estructura de directorios en la carpeta 'PROYECTOS'\n",
    "conda update conda -y\n",
    "conda clean -y --all\n",
    "PROYECTO=\"ecommerce\"\n",
    "mkdir -p \"$PROYECTO\"/docs && touch \"$PROYECTO\"/docs/README.md\n",
    "mkdir -p \"$PROYECTO\"/data/{raw,processed,originals,validation}\n",
    "mkdir -p \"$PROYECTO\"/notebooks && touch \"$PROYECTO\"/notebooks/{00_project.ipynb,01_extraction.ipynb,02_cleaning.ipynb,03_transformation.ipynb,04_analysis.ipynb}\n",
    "mkdir -p \"$PROYECTO\"/src/utils && touch \"$PROYECTO\"/src/{__init__.py,01_extraction.py,02_cleaning.py,03_transformation.py,04_analysis.py}\n",
    "mkdir -p \"$PROYECTO\"/dashboards/{powerbi,tableau}\n",
    "mkdir -p \"$PROYECTO\"/images\n",
    "touch \"$PROYECTO\"/{.gitignore,main.py}\n",
    "'''"
   ]
  },
  {
   "cell_type": "markdown",
   "id": "cfd3adf9",
   "metadata": {},
   "source": [
    "---\n",
    "## CREACIÓN DEL ENTORNO DEL PROYECTO CON LIBRERÍAS\n",
    "---"
   ]
  },
  {
   "cell_type": "code",
   "execution_count": null,
   "id": "a99aa109",
   "metadata": {},
   "outputs": [],
   "source": [
    "'''Crear un nuevo entorno e instalar los paquetes en Conda // Instalacion del entorno y kernel en la ubicación del entorno\n",
    "conda update conda\n",
    "conda clean -y --all\n",
    "ENTORNO=\"ecommerce\"\n",
    "conda deactivate \n",
    "conda env remove -y -n $ENTORNO\n",
    "conda create -y -n $ENTORNO numpy pandas matplotlib seaborn statsmodels scikit-learn scipy sqlalchemy jupyter jupyter_client\n",
    "conda activate $ENTORNO\n",
    "conda install -y -c conda-forge plotly pyjanitor scikit-plot jupyter_contrib_nbextensions\n",
    "pip install pipreqs\n",
    "python -m ipykernel install --sys-prefix --name $ENTORNO --display-name \"Python ($ENTORNO)\"\n",
    "jupyter kernelspec list\n",
    "'''"
   ]
  },
  {
   "cell_type": "markdown",
   "id": "8fb3dffc",
   "metadata": {},
   "source": [
    "---\n",
    "## EXPORTAR LIBRERÍAS Y DEPENDENCIAS\n",
    "---"
   ]
  },
  {
   "cell_type": "markdown",
   "id": "44dc2b28",
   "metadata": {},
   "source": [
    "### EXPORTAR ARCHIVO environment.yml en Conda\n",
    "\n",
    "- archivo de configuración donde se especifican las dependencias y paquetes necesarios para el proyecto para que se pueda replicar facilmente.\n",
    "- conda env export > environment.yml --> Exportar archivo\n",
    "- conda env create -f environment.yml --> Instalar todos los paquetes y configurar el entorno con el mismo nombre y dependencias especificadas en el archivo.\n",
    "- Posicionarnos sobre la carpeta docs para que se guarde en esa ubicacion\n"
   ]
  }
 ],
 "metadata": {
  "language_info": {
   "name": "python"
  }
 },
 "nbformat": 4,
 "nbformat_minor": 5
}
